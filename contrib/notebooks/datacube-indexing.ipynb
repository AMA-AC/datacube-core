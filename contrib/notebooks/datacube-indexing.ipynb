{
 "cells": [
  {
   "cell_type": "markdown",
   "metadata": {},
   "source": [
    "# Indexing Landsat data available on AWS into datacube"
   ]
  },
  {
   "cell_type": "markdown",
   "metadata": {},
   "source": [
    "### Before Indexing AWS landsat data\n",
    "    You will need an AWS account and a .aws/credentials file:\n",
    "\n",
    "    [default]\n",
    "    aws_access_key_id = <Access key ID>\n",
    "    aws_secret_access_key = <Secret access key>\n"
   ]
  },
  {
   "cell_type": "code",
   "execution_count": 1,
   "metadata": {},
   "outputs": [
    {
     "name": "stdout",
     "output_type": "stream",
     "text": [
      "Usage: datacube [OPTIONS] COMMAND [ARGS]...\r\n",
      "\r\n",
      "  Data Cube command-line interface\r\n",
      "\r\n",
      "Options:\r\n",
      "  --version\r\n",
      "  -v, --verbose           Use multiple times for more verbosity\r\n",
      "  --log-file TEXT         Specify log file\r\n",
      "  -C, --config_file TEXT\r\n",
      "  --log-queries           Print database queries.\r\n",
      "  -h, --help              Show this message and exit.\r\n",
      "\r\n",
      "Commands:\r\n",
      "  dataset        Dataset management commands\r\n",
      "  ingest         Ingest datasets\r\n",
      "  metadata_type  Metadata type commands\r\n",
      "  product        Product commands\r\n",
      "  system         System commands\r\n",
      "  user           User management commands\r\n"
     ]
    }
   ],
   "source": [
    "!datacube --help"
   ]
  },
  {
   "cell_type": "code",
   "execution_count": 2,
   "metadata": {},
   "outputs": [
    {
     "name": "stdout",
     "output_type": "stream",
     "text": [
      "Open Data Cube core, version 1.5.4\r\n"
     ]
    }
   ],
   "source": [
    "!datacube --version"
   ]
  },
  {
   "cell_type": "markdown",
   "metadata": {},
   "source": [
    "## Sample product definition for LANDSAT_8 Collection1 level 1 data\n",
    "\n",
    "name: ls8_level1\n",
    "description: Landsat 8 Level 1 Collection-1 OLI-TIRS\n",
    "metadata_type: eo\n",
    "\n",
    "metadata:\n",
    "    platform:\n",
    "        code: LANDSAT_8\n",
    "    instrument:\n",
    "        name: OLI_TIRS\n",
    "    product_type: Level1\n",
    "    format:\n",
    "        name: GeoTiff\n",
    "\n",
    "measurements:\n",
    "    - name: 'blue'\n",
    "      aliases: [band_2, blue]\n",
    "      dtype: int16\n",
    "      nodata: -9999\n",
    "      units: '1'\n",
    "\n",
    "    - name: 'green'\n",
    "      aliases: [band_3, green]\n",
    "      dtype: int16\n",
    "      nodata: -9999\n",
    "      units: '1'\n",
    "\n",
    "    - name: 'red'\n",
    "      aliases: [band_4, red]\n",
    "      dtype: int16\n",
    "      nodata: -9999\n",
    "      units: '1'\n",
    "\n",
    "    - name: 'nir'\n",
    "      aliases: [band_5, nir]\n",
    "      dtype: int16\n",
    "      nodata: -9999\n",
    "      units: '1'\n"
   ]
  },
  {
   "cell_type": "markdown",
   "metadata": {},
   "source": [
    "## Adding product definition to datacube"
   ]
  },
  {
   "cell_type": "code",
   "execution_count": 4,
   "metadata": {},
   "outputs": [
    {
     "name": "stdout",
     "output_type": "stream",
     "text": [
      "Added \"ls8_level1\"\r\n"
     ]
    }
   ],
   "source": [
    "!datacube product add ls_sample_product.yaml"
   ]
  },
  {
   "cell_type": "markdown",
   "metadata": {},
   "source": [
    "## Viewing added products "
   ]
  },
  {
   "cell_type": "code",
   "execution_count": 11,
   "metadata": {},
   "outputs": [
    {
     "name": "stdout",
     "output_type": "stream",
     "text": [
      "   name                 description                                        product_type instrument format    platform    \r\n",
      "id                                                                                                                       \r\n",
      "1            ls8_level1            Landsat 8 Level 1 Collection-1 OLI-TIRS    Level1     OLI_TIRS    GeoTiff    LANDSAT_8\r\n",
      "2       s2a_ard_granule  Sentinel-2A MSI ARD - NBAR NBART and Pixel Qua...  S2MSIARD          MSI    GeoTIFF  Sentinel-2A\r\n",
      "4   s2a_level1c_granule  Sentinel-2A Level1C - Ortho Rectified Top of A...   S2MSI1C          MSI   JPEG2000  Sentinel-2A\r\n",
      "6   s2a_sen2cor_granule  Sentinel-2 Level 2 - Sen2Cor Bottom of Atmosph...  S2MSI2Ap          MSI   JPEG2000  SENTINEL_2A\r\n",
      "3       s2b_ard_granule  Sentinel-2B MSI ARD - NBAR NBART and Pixel Qua...  S2MSIARD          MSI    GeoTIFF  Sentinel-2B\r\n",
      "5   s2b_level1c_granule  Sentinel-2B Level1C - Ortho Rectified Top of A...   S2MSI1C          MSI   JPEG2000  Sentinel-2B\r\n"
     ]
    }
   ],
   "source": [
    "!datacube product list"
   ]
  },
  {
   "cell_type": "markdown",
   "metadata": {},
   "source": [
    "\n",
    "# Landsat on AWS\n",
    "\n",
    "- Landsat 8 data is available for anyone to use via Amazon S3. All Landsat 8 scenes are available from the start of imagery capture. All new Landsat 8 scenes are made available each day, often within hours of production.\n",
    "\n",
    "- AWS has made Landsat 8 data freely available on Amazon S3 so that anyone can use our on-demand computing resources to perform analysis and create new products without needing to worry about the cost of storing Landsat data or the time required to download it.\n",
    "\n",
    "- All Landsat 8 scenes are available from the start of imagery capture. All new Landsat 8 scenes are made available each day, often within hours of production.\n",
    "\n",
    "- Landsat on AWS makes each band of each Landsat scene available as a stand-alone GeoTIFF and the scene’s metadata is hosted as a text file.\n",
    "\n",
    "### About the Data\n",
    "         Source                                                       U.S. Geological Survey\n",
    "         Category                                        GIS, Sensor Data, Satellite Imagery, Natural Resource\n",
    "         Format \t                                                  GeoTIFF, txt, jpg\n",
    "         Storage Service \t                                           Amazon S3\n",
    "         Location \t                                       s3://landsat-pds in US West (Oregon) Region\n",
    "         Update Frequency \t                      New Landsat 8 scenes are added regularly as soon as they are available"
   ]
  },
  {
   "cell_type": "markdown",
   "metadata": {},
   "source": [
    "# Indexing 'landsat-pds' public bucket data "
   ]
  },
  {
   "cell_type": "code",
   "execution_count": 6,
   "metadata": {},
   "outputs": [
    {
     "name": "stdout",
     "output_type": "stream",
     "text": [
      "Usage: ls_public_bucket.py [OPTIONS] BUCKET_NAME\r\n",
      "\r\n",
      "Error: Missing argument \"bucket_name\".\r\n"
     ]
    }
   ],
   "source": [
    "!python ls_public_bucket.py "
   ]
  },
  {
   "cell_type": "markdown",
   "metadata": {},
   "source": [
    "### Indicate which bucket to access and index \n",
    "### Since 'landsat-pds' bucket is spread across the Globe,\n",
    "### there is an option for prefix to index path and row  \n",
    "### For Example:\n",
    "\n",
    "Collection 1 Data\n",
    "\n",
    "The data are organized using a directory structure based on each scene’s path and row. For instance, the files for Landsat scene LC08_L1TP_139045_20170304_20170316_01_T1 are available in the following location: s3://landsat-pds/c1/L8/139/045/LC08_L1TP_139045_20170304_20170316_01_T1/\n",
    "\n",
    "The “c1” refers to Collection 1, the “L8” refers to Landsat 8, “139” refers to the scene’s path, “045” refers to the scene’s row, and the final directory matches the product’s identifier, which uses the following naming convention: LXSS_LLLL_PPPRRR_YYYYMMDD_yyymmdd_CC_TX, in which:\n",
    "\n",
    "    L = Landsat\n",
    "    X = Sensor\n",
    "    SS = Satellite\n",
    "    PPP = WRS path\n",
    "    RRR = WRS row\n",
    "    YYYYMMDD = Acquisition date\n",
    "    yyyymmdd = Processing date\n",
    "    CC = Collection number\n",
    "    TX = Collection category\n",
    "### So the prefix here can be c1/L8/033/042"
   ]
  },
  {
   "cell_type": "code",
   "execution_count": 7,
   "metadata": {},
   "outputs": [
    {
     "name": "stdout",
     "output_type": "stream",
     "text": [
      "2018-02-15 11:47:15,375 INFO Found credentials in shared credentials file: ~/.aws/credentials\n",
      "2018-02-15 11:47:15,408 INFO Bucket : landsat-pds\n",
      "2018-02-15 11:47:15,411 INFO Calling paginated s3:list_objects with {'Bucket': 'landsat-pds', 'Prefix': 'c1/L8/033/042/'}\n",
      "2018-02-15 11:47:15,415 INFO Starting new HTTPS connection (1): landsat-pds.s3.amazonaws.com\n",
      "2018-02-15 11:47:19,177 INFO Processing c1/L8/033/042/LC08_L1TP_033042_20170313_20170328_01_T1/LC08_L1TP_033042_20170313_20170328_01_T1_MTL.txt\n",
      "2018-02-15 11:47:19,177 INFO Calling s3:get_object with {'Bucket': 'landsat-pds', 'Key': 'c1/L8/033/042/LC08_L1TP_033042_20170313_20170328_01_T1/LC08_L1TP_033042_20170313_20170328_01_T1_MTL.txt'}\n",
      "2018-02-15 11:47:19,384 INFO Indexing 62a89ab0-df57-57fb-92c8-3554b6c76861\n",
      "2018-02-15 11:47:19,393 INFO Indexing c1/L8/033/042/LC08_L1TP_033042_20170313_20170328_01_T1/LC08_L1TP_033042_20170313_20170328_01_T1_MTL.txt\n",
      "2018-02-15 11:47:19,393 INFO Processing c1/L8/033/042/LC08_L1TP_033042_20170329_20170414_01_T1/LC08_L1TP_033042_20170329_20170414_01_T1_MTL.txt\n",
      "2018-02-15 11:47:19,393 INFO Calling s3:get_object with {'Bucket': 'landsat-pds', 'Key': 'c1/L8/033/042/LC08_L1TP_033042_20170329_20170414_01_T1/LC08_L1TP_033042_20170329_20170414_01_T1_MTL.txt'}\n",
      "2018-02-15 11:47:19,648 INFO Indexing f3519df1-867c-58a9-ba32-b567368cdae5\n",
      "2018-02-15 11:47:19,653 INFO Indexing c1/L8/033/042/LC08_L1TP_033042_20170329_20170414_01_T1/LC08_L1TP_033042_20170329_20170414_01_T1_MTL.txt\n",
      "2018-02-15 11:47:19,653 INFO Processing c1/L8/033/042/LC08_L1TP_033042_20170414_20170501_01_T1/LC08_L1TP_033042_20170414_20170501_01_T1_MTL.txt\n",
      "2018-02-15 11:47:19,653 INFO Calling s3:get_object with {'Bucket': 'landsat-pds', 'Key': 'c1/L8/033/042/LC08_L1TP_033042_20170414_20170501_01_T1/LC08_L1TP_033042_20170414_20170501_01_T1_MTL.txt'}\n",
      "2018-02-15 11:47:20,004 INFO Indexing cdac97f2-3959-550d-80ab-15d686a27750\n",
      "2018-02-15 11:47:20,009 INFO Indexing c1/L8/033/042/LC08_L1TP_033042_20170414_20170501_01_T1/LC08_L1TP_033042_20170414_20170501_01_T1_MTL.txt\n",
      "2018-02-15 11:47:20,009 INFO Processing c1/L8/033/042/LC08_L1TP_033042_20170430_20170515_01_T1/LC08_L1TP_033042_20170430_20170515_01_T1_MTL.txt\n",
      "2018-02-15 11:47:20,009 INFO Calling s3:get_object with {'Bucket': 'landsat-pds', 'Key': 'c1/L8/033/042/LC08_L1TP_033042_20170430_20170515_01_T1/LC08_L1TP_033042_20170430_20170515_01_T1_MTL.txt'}\n",
      "2018-02-15 11:47:20,299 INFO Indexing 3cfb5978-cac1-5c07-9be6-6dbac91fa943\n",
      "2018-02-15 11:47:20,304 INFO Indexing c1/L8/033/042/LC08_L1TP_033042_20170430_20170515_01_T1/LC08_L1TP_033042_20170430_20170515_01_T1_MTL.txt\n",
      "2018-02-15 11:47:20,304 INFO Processing c1/L8/033/042/LC08_L1TP_033042_20170516_20170516_01_RT/LC08_L1TP_033042_20170516_20170516_01_RT_MTL.txt\n",
      "2018-02-15 11:47:20,305 INFO Calling s3:get_object with {'Bucket': 'landsat-pds', 'Key': 'c1/L8/033/042/LC08_L1TP_033042_20170516_20170516_01_RT/LC08_L1TP_033042_20170516_20170516_01_RT_MTL.txt'}\n",
      "2018-02-15 11:47:20,530 INFO Indexing e58634f0-5092-5223-8f1e-a75508df14c3\n",
      "2018-02-15 11:47:20,535 INFO Indexing c1/L8/033/042/LC08_L1TP_033042_20170516_20170516_01_RT/LC08_L1TP_033042_20170516_20170516_01_RT_MTL.txt\n",
      "2018-02-15 11:47:20,535 INFO Processing c1/L8/033/042/LC08_L1TP_033042_20170516_20170525_01_T1/LC08_L1TP_033042_20170516_20170525_01_T1_MTL.txt\n",
      "2018-02-15 11:47:20,535 INFO Calling s3:get_object with {'Bucket': 'landsat-pds', 'Key': 'c1/L8/033/042/LC08_L1TP_033042_20170516_20170525_01_T1/LC08_L1TP_033042_20170516_20170525_01_T1_MTL.txt'}\n",
      "2018-02-15 11:47:20,747 INFO Indexing 176ea610-3c57-5867-9ec6-506885842ae6\n",
      "2018-02-15 11:47:20,751 INFO Indexing c1/L8/033/042/LC08_L1TP_033042_20170516_20170525_01_T1/LC08_L1TP_033042_20170516_20170525_01_T1_MTL.txt\n",
      "2018-02-15 11:47:20,751 INFO Processing c1/L8/033/042/LC08_L1TP_033042_20170601_20170602_01_RT/LC08_L1TP_033042_20170601_20170602_01_RT_MTL.txt\n",
      "2018-02-15 11:47:20,752 INFO Calling s3:get_object with {'Bucket': 'landsat-pds', 'Key': 'c1/L8/033/042/LC08_L1TP_033042_20170601_20170602_01_RT/LC08_L1TP_033042_20170601_20170602_01_RT_MTL.txt'}\n",
      "2018-02-15 11:47:20,964 INFO Indexing 0e4192cf-a795-5aed-8b8e-b858b0db4117\n",
      "2018-02-15 11:47:20,968 INFO Indexing c1/L8/033/042/LC08_L1TP_033042_20170601_20170602_01_RT/LC08_L1TP_033042_20170601_20170602_01_RT_MTL.txt\n",
      "2018-02-15 11:47:20,969 INFO Processing c1/L8/033/042/LC08_L1TP_033042_20170601_20170615_01_T1/LC08_L1TP_033042_20170601_20170615_01_T1_MTL.txt\n",
      "2018-02-15 11:47:20,969 INFO Calling s3:get_object with {'Bucket': 'landsat-pds', 'Key': 'c1/L8/033/042/LC08_L1TP_033042_20170601_20170615_01_T1/LC08_L1TP_033042_20170601_20170615_01_T1_MTL.txt'}\n",
      "2018-02-15 11:47:21,180 INFO Indexing 69e026d0-6c79-53b2-acdf-99d36fb7a406\n",
      "2018-02-15 11:47:21,185 INFO Indexing c1/L8/033/042/LC08_L1TP_033042_20170601_20170615_01_T1/LC08_L1TP_033042_20170601_20170615_01_T1_MTL.txt\n",
      "2018-02-15 11:47:21,185 INFO Processing c1/L8/033/042/LC08_L1TP_033042_20170617_20170617_01_RT/LC08_L1TP_033042_20170617_20170617_01_RT_MTL.txt\n",
      "2018-02-15 11:47:21,185 INFO Calling s3:get_object with {'Bucket': 'landsat-pds', 'Key': 'c1/L8/033/042/LC08_L1TP_033042_20170617_20170617_01_RT/LC08_L1TP_033042_20170617_20170617_01_RT_MTL.txt'}\n",
      "2018-02-15 11:47:21,487 INFO Indexing c27fe3d3-ef1b-57ca-b65c-316a0f547b79\n",
      "2018-02-15 11:47:21,492 INFO Indexing c1/L8/033/042/LC08_L1TP_033042_20170617_20170617_01_RT/LC08_L1TP_033042_20170617_20170617_01_RT_MTL.txt\n",
      "2018-02-15 11:47:21,492 INFO Processing c1/L8/033/042/LC08_L1TP_033042_20170617_20170629_01_T1/LC08_L1TP_033042_20170617_20170629_01_T1_MTL.txt\n",
      "2018-02-15 11:47:21,492 INFO Calling s3:get_object with {'Bucket': 'landsat-pds', 'Key': 'c1/L8/033/042/LC08_L1TP_033042_20170617_20170629_01_T1/LC08_L1TP_033042_20170617_20170629_01_T1_MTL.txt'}\n",
      "2018-02-15 11:47:21,692 INFO Indexing 5c611f5c-6468-5965-b715-f27915f438b5\n",
      "2018-02-15 11:47:21,696 INFO Indexing c1/L8/033/042/LC08_L1TP_033042_20170617_20170629_01_T1/LC08_L1TP_033042_20170617_20170629_01_T1_MTL.txt\n",
      "2018-02-15 11:47:21,697 INFO Processing c1/L8/033/042/LC08_L1TP_033042_20170703_20170704_01_RT/LC08_L1TP_033042_20170703_20170704_01_RT_MTL.txt\n",
      "2018-02-15 11:47:21,697 INFO Calling s3:get_object with {'Bucket': 'landsat-pds', 'Key': 'c1/L8/033/042/LC08_L1TP_033042_20170703_20170704_01_RT/LC08_L1TP_033042_20170703_20170704_01_RT_MTL.txt'}\n",
      "2018-02-15 11:47:21,909 INFO Indexing 96cada47-90b0-5132-af9e-e279e5f54e99\n",
      "2018-02-15 11:47:21,914 INFO Indexing c1/L8/033/042/LC08_L1TP_033042_20170703_20170704_01_RT/LC08_L1TP_033042_20170703_20170704_01_RT_MTL.txt\n",
      "2018-02-15 11:47:21,914 INFO Processing c1/L8/033/042/LC08_L1TP_033042_20170703_20170715_01_T1/LC08_L1TP_033042_20170703_20170715_01_T1_MTL.txt\n",
      "2018-02-15 11:47:21,914 INFO Calling s3:get_object with {'Bucket': 'landsat-pds', 'Key': 'c1/L8/033/042/LC08_L1TP_033042_20170703_20170715_01_T1/LC08_L1TP_033042_20170703_20170715_01_T1_MTL.txt'}\n",
      "2018-02-15 11:47:22,127 INFO Indexing e1a17338-b417-558d-b724-e3152665d34f\n",
      "2018-02-15 11:47:22,132 INFO Indexing c1/L8/033/042/LC08_L1TP_033042_20170703_20170715_01_T1/LC08_L1TP_033042_20170703_20170715_01_T1_MTL.txt\n",
      "2018-02-15 11:47:22,132 INFO Processing c1/L8/033/042/LC08_L1TP_033042_20170719_20170720_01_RT/LC08_L1TP_033042_20170719_20170720_01_RT_MTL.txt\n",
      "2018-02-15 11:47:22,133 INFO Calling s3:get_object with {'Bucket': 'landsat-pds', 'Key': 'c1/L8/033/042/LC08_L1TP_033042_20170719_20170720_01_RT/LC08_L1TP_033042_20170719_20170720_01_RT_MTL.txt'}\n",
      "2018-02-15 11:47:22,425 INFO Indexing 64d3801e-92af-59d6-8a96-adbfc682ac75\n",
      "2018-02-15 11:47:22,430 INFO Indexing c1/L8/033/042/LC08_L1TP_033042_20170719_20170720_01_RT/LC08_L1TP_033042_20170719_20170720_01_RT_MTL.txt\n",
      "2018-02-15 11:47:22,430 INFO Processing c1/L8/033/042/LC08_L1TP_033042_20170719_20170728_01_T1/LC08_L1TP_033042_20170719_20170728_01_T1_MTL.txt\n",
      "2018-02-15 11:47:22,430 INFO Calling s3:get_object with {'Bucket': 'landsat-pds', 'Key': 'c1/L8/033/042/LC08_L1TP_033042_20170719_20170728_01_T1/LC08_L1TP_033042_20170719_20170728_01_T1_MTL.txt'}\n",
      "2018-02-15 11:47:22,663 INFO Indexing 86b42c33-0cbf-5550-ad72-3bcee9b95b70\n",
      "2018-02-15 11:47:22,667 INFO Indexing c1/L8/033/042/LC08_L1TP_033042_20170719_20170728_01_T1/LC08_L1TP_033042_20170719_20170728_01_T1_MTL.txt\n",
      "2018-02-15 11:47:22,667 INFO Processing c1/L8/033/042/LC08_L1TP_033042_20170804_20170805_01_RT/LC08_L1TP_033042_20170804_20170805_01_RT_MTL.txt\n",
      "2018-02-15 11:47:22,667 INFO Calling s3:get_object with {'Bucket': 'landsat-pds', 'Key': 'c1/L8/033/042/LC08_L1TP_033042_20170804_20170805_01_RT/LC08_L1TP_033042_20170804_20170805_01_RT_MTL.txt'}\n"
     ]
    },
    {
     "name": "stdout",
     "output_type": "stream",
     "text": [
      "2018-02-15 11:47:22,905 INFO Indexing 4610ff32-ee21-5bae-86d7-567847d7c367\n",
      "2018-02-15 11:47:22,910 INFO Indexing c1/L8/033/042/LC08_L1TP_033042_20170804_20170805_01_RT/LC08_L1TP_033042_20170804_20170805_01_RT_MTL.txt\n",
      "2018-02-15 11:47:22,910 INFO Processing c1/L8/033/042/LC08_L1TP_033042_20170804_20170812_01_T1/LC08_L1TP_033042_20170804_20170812_01_T1_MTL.txt\n",
      "2018-02-15 11:47:22,910 INFO Calling s3:get_object with {'Bucket': 'landsat-pds', 'Key': 'c1/L8/033/042/LC08_L1TP_033042_20170804_20170812_01_T1/LC08_L1TP_033042_20170804_20170812_01_T1_MTL.txt'}\n",
      "2018-02-15 11:47:23,208 INFO Indexing 1e5a903d-cb6f-53c1-8e78-79a857aeaa3d\n",
      "2018-02-15 11:47:23,213 INFO Indexing c1/L8/033/042/LC08_L1TP_033042_20170804_20170812_01_T1/LC08_L1TP_033042_20170804_20170812_01_T1_MTL.txt\n",
      "2018-02-15 11:47:23,213 INFO Processing c1/L8/033/042/LC08_L1TP_033042_20170820_20170821_01_RT/LC08_L1TP_033042_20170820_20170821_01_RT_MTL.txt\n",
      "2018-02-15 11:47:23,213 INFO Calling s3:get_object with {'Bucket': 'landsat-pds', 'Key': 'c1/L8/033/042/LC08_L1TP_033042_20170820_20170821_01_RT/LC08_L1TP_033042_20170820_20170821_01_RT_MTL.txt'}\n",
      "2018-02-15 11:47:23,418 INFO Indexing 44f5a55b-ff48-5786-a44e-5c04f215f7d4\n",
      "2018-02-15 11:47:23,423 INFO Indexing c1/L8/033/042/LC08_L1TP_033042_20170820_20170821_01_RT/LC08_L1TP_033042_20170820_20170821_01_RT_MTL.txt\n",
      "2018-02-15 11:47:23,423 INFO Processing c1/L8/033/042/LC08_L1TP_033042_20170820_20170826_01_T1/LC08_L1TP_033042_20170820_20170826_01_T1_MTL.txt\n",
      "2018-02-15 11:47:23,423 INFO Calling s3:get_object with {'Bucket': 'landsat-pds', 'Key': 'c1/L8/033/042/LC08_L1TP_033042_20170820_20170826_01_T1/LC08_L1TP_033042_20170820_20170826_01_T1_MTL.txt'}\n",
      "2018-02-15 11:47:23,624 INFO Indexing 23de60a1-97e4-507f-9ad9-3d1415a7c3af\n",
      "2018-02-15 11:47:23,629 INFO Indexing c1/L8/033/042/LC08_L1TP_033042_20170820_20170826_01_T1/LC08_L1TP_033042_20170820_20170826_01_T1_MTL.txt\n",
      "2018-02-15 11:47:23,629 INFO Processing c1/L8/033/042/LC08_L1TP_033042_20170905_20170905_01_RT/LC08_L1TP_033042_20170905_20170905_01_RT_MTL.txt\n",
      "2018-02-15 11:47:23,629 INFO Calling s3:get_object with {'Bucket': 'landsat-pds', 'Key': 'c1/L8/033/042/LC08_L1TP_033042_20170905_20170905_01_RT/LC08_L1TP_033042_20170905_20170905_01_RT_MTL.txt'}\n",
      "2018-02-15 11:47:23,830 INFO Indexing f3aed17f-c268-55bd-bd7b-5c0536a38f83\n",
      "2018-02-15 11:47:23,835 INFO Indexing c1/L8/033/042/LC08_L1TP_033042_20170905_20170905_01_RT/LC08_L1TP_033042_20170905_20170905_01_RT_MTL.txt\n",
      "2018-02-15 11:47:23,835 INFO Processing c1/L8/033/042/LC08_L1TP_033042_20170905_20170917_01_T1/LC08_L1TP_033042_20170905_20170917_01_T1_MTL.txt\n",
      "2018-02-15 11:47:23,835 INFO Calling s3:get_object with {'Bucket': 'landsat-pds', 'Key': 'c1/L8/033/042/LC08_L1TP_033042_20170905_20170917_01_T1/LC08_L1TP_033042_20170905_20170917_01_T1_MTL.txt'}\n",
      "2018-02-15 11:47:24,031 INFO Indexing f7914019-78ff-57ae-994f-b4aee5a86ba5\n",
      "2018-02-15 11:47:24,035 INFO Indexing c1/L8/033/042/LC08_L1TP_033042_20170905_20170917_01_T1/LC08_L1TP_033042_20170905_20170917_01_T1_MTL.txt\n",
      "2018-02-15 11:47:24,036 INFO Processing c1/L8/033/042/LC08_L1TP_033042_20170921_20170922_01_RT/LC08_L1TP_033042_20170921_20170922_01_RT_MTL.txt\n",
      "2018-02-15 11:47:24,036 INFO Calling s3:get_object with {'Bucket': 'landsat-pds', 'Key': 'c1/L8/033/042/LC08_L1TP_033042_20170921_20170922_01_RT/LC08_L1TP_033042_20170921_20170922_01_RT_MTL.txt'}\n",
      "2018-02-15 11:47:24,240 INFO Indexing d2cb791b-fbb6-5ebc-ae51-3d9c1f50ddc2\n",
      "2018-02-15 11:47:24,245 INFO Indexing c1/L8/033/042/LC08_L1TP_033042_20170921_20170922_01_RT/LC08_L1TP_033042_20170921_20170922_01_RT_MTL.txt\n",
      "2018-02-15 11:47:24,245 INFO Processing c1/L8/033/042/LC08_L1TP_033042_20170921_20171012_01_T1/LC08_L1TP_033042_20170921_20171012_01_T1_MTL.txt\n",
      "2018-02-15 11:47:24,245 INFO Calling s3:get_object with {'Bucket': 'landsat-pds', 'Key': 'c1/L8/033/042/LC08_L1TP_033042_20170921_20171012_01_T1/LC08_L1TP_033042_20170921_20171012_01_T1_MTL.txt'}\n",
      "2018-02-15 11:47:24,636 INFO Indexing ec388e45-8bd2-5990-a606-3b6e71fe298d\n",
      "2018-02-15 11:47:24,641 INFO Indexing c1/L8/033/042/LC08_L1TP_033042_20170921_20171012_01_T1/LC08_L1TP_033042_20170921_20171012_01_T1_MTL.txt\n",
      "2018-02-15 11:47:24,641 INFO Processing c1/L8/033/042/LC08_L1TP_033042_20171007_20171007_01_RT/LC08_L1TP_033042_20171007_20171007_01_RT_MTL.txt\n",
      "2018-02-15 11:47:24,641 INFO Calling s3:get_object with {'Bucket': 'landsat-pds', 'Key': 'c1/L8/033/042/LC08_L1TP_033042_20171007_20171007_01_RT/LC08_L1TP_033042_20171007_20171007_01_RT_MTL.txt'}\n",
      "2018-02-15 11:47:24,927 INFO Indexing 2c3b2a43-7710-585e-aa40-a30bc2c6a123\n",
      "2018-02-15 11:47:24,931 INFO Indexing c1/L8/033/042/LC08_L1TP_033042_20171007_20171007_01_RT/LC08_L1TP_033042_20171007_20171007_01_RT_MTL.txt\n",
      "2018-02-15 11:47:27,163 INFO Processing c1/L8/033/042/LC08_L1TP_033042_20171007_20171023_01_T1/LC08_L1TP_033042_20171007_20171023_01_T1_MTL.txt\n",
      "2018-02-15 11:47:27,164 INFO Calling s3:get_object with {'Bucket': 'landsat-pds', 'Key': 'c1/L8/033/042/LC08_L1TP_033042_20171007_20171023_01_T1/LC08_L1TP_033042_20171007_20171023_01_T1_MTL.txt'}\n",
      "2018-02-15 11:47:27,386 INFO Indexing 72e21633-da59-5775-b8ab-185ac1e8aa61\n",
      "2018-02-15 11:47:27,391 INFO Indexing c1/L8/033/042/LC08_L1TP_033042_20171007_20171023_01_T1/LC08_L1TP_033042_20171007_20171023_01_T1_MTL.txt\n",
      "2018-02-15 11:47:27,391 INFO Processing c1/L8/033/042/LC08_L1TP_033042_20171023_20171024_01_RT/LC08_L1TP_033042_20171023_20171024_01_RT_MTL.txt\n",
      "2018-02-15 11:47:27,391 INFO Calling s3:get_object with {'Bucket': 'landsat-pds', 'Key': 'c1/L8/033/042/LC08_L1TP_033042_20171023_20171024_01_RT/LC08_L1TP_033042_20171023_20171024_01_RT_MTL.txt'}\n",
      "2018-02-15 11:47:27,629 INFO Indexing debec4db-4c9e-57ce-abcf-7f3bf63bc58d\n",
      "2018-02-15 11:47:27,633 INFO Indexing c1/L8/033/042/LC08_L1TP_033042_20171023_20171024_01_RT/LC08_L1TP_033042_20171023_20171024_01_RT_MTL.txt\n",
      "2018-02-15 11:47:27,633 INFO Processing c1/L8/033/042/LC08_L1TP_033042_20171023_20171107_01_T1/LC08_L1TP_033042_20171023_20171107_01_T1_MTL.txt\n",
      "2018-02-15 11:47:27,634 INFO Calling s3:get_object with {'Bucket': 'landsat-pds', 'Key': 'c1/L8/033/042/LC08_L1TP_033042_20171023_20171107_01_T1/LC08_L1TP_033042_20171023_20171107_01_T1_MTL.txt'}\n",
      "2018-02-15 11:47:27,836 INFO Indexing 684a454a-d475-5d1f-bb1a-7c214d31aa1c\n",
      "2018-02-15 11:47:27,841 INFO Indexing c1/L8/033/042/LC08_L1TP_033042_20171023_20171107_01_T1/LC08_L1TP_033042_20171023_20171107_01_T1_MTL.txt\n",
      "2018-02-15 11:47:27,841 INFO Processing c1/L8/033/042/LC08_L1TP_033042_20171108_20171108_01_RT/LC08_L1TP_033042_20171108_20171108_01_RT_MTL.txt\n",
      "2018-02-15 11:47:27,841 INFO Calling s3:get_object with {'Bucket': 'landsat-pds', 'Key': 'c1/L8/033/042/LC08_L1TP_033042_20171108_20171108_01_RT/LC08_L1TP_033042_20171108_20171108_01_RT_MTL.txt'}\n",
      "2018-02-15 11:47:28,042 INFO Indexing 3e95350b-cd53-5961-bb29-2849adc058b2\n",
      "2018-02-15 11:47:28,046 INFO Indexing c1/L8/033/042/LC08_L1TP_033042_20171108_20171108_01_RT/LC08_L1TP_033042_20171108_20171108_01_RT_MTL.txt\n",
      "2018-02-15 11:47:28,047 INFO Processing c1/L8/033/042/LC08_L1TP_033042_20171108_20171121_01_T1/LC08_L1TP_033042_20171108_20171121_01_T1_MTL.txt\n",
      "2018-02-15 11:47:28,047 INFO Calling s3:get_object with {'Bucket': 'landsat-pds', 'Key': 'c1/L8/033/042/LC08_L1TP_033042_20171108_20171121_01_T1/LC08_L1TP_033042_20171108_20171121_01_T1_MTL.txt'}\n",
      "2018-02-15 11:47:28,250 INFO Indexing 11fa297e-ac91-56ea-9cc3-cdc6585a838c\n",
      "2018-02-15 11:47:28,255 INFO Indexing c1/L8/033/042/LC08_L1TP_033042_20171108_20171121_01_T1/LC08_L1TP_033042_20171108_20171121_01_T1_MTL.txt\n",
      "2018-02-15 11:47:28,255 INFO Processing c1/L8/033/042/LC08_L1TP_033042_20171124_20171124_01_RT/LC08_L1TP_033042_20171124_20171124_01_RT_MTL.txt\n",
      "2018-02-15 11:47:28,255 INFO Calling s3:get_object with {'Bucket': 'landsat-pds', 'Key': 'c1/L8/033/042/LC08_L1TP_033042_20171124_20171124_01_RT/LC08_L1TP_033042_20171124_20171124_01_RT_MTL.txt'}\n",
      "2018-02-15 11:47:28,453 INFO Indexing b3ddeccc-022a-5c8f-aede-83f7f623efe0\n",
      "2018-02-15 11:47:28,458 INFO Indexing c1/L8/033/042/LC08_L1TP_033042_20171124_20171124_01_RT/LC08_L1TP_033042_20171124_20171124_01_RT_MTL.txt\n",
      "2018-02-15 11:47:28,458 INFO Processing c1/L8/033/042/LC08_L1TP_033042_20171124_20171206_01_T1/LC08_L1TP_033042_20171124_20171206_01_T1_MTL.txt\n",
      "2018-02-15 11:47:28,458 INFO Calling s3:get_object with {'Bucket': 'landsat-pds', 'Key': 'c1/L8/033/042/LC08_L1TP_033042_20171124_20171206_01_T1/LC08_L1TP_033042_20171124_20171206_01_T1_MTL.txt'}\n"
     ]
    },
    {
     "name": "stdout",
     "output_type": "stream",
     "text": [
      "2018-02-15 11:47:28,646 INFO Indexing 9f2b93c8-1db9-50c7-8b48-5551911d9898\n",
      "2018-02-15 11:47:28,651 INFO Indexing c1/L8/033/042/LC08_L1TP_033042_20171124_20171206_01_T1/LC08_L1TP_033042_20171124_20171206_01_T1_MTL.txt\n",
      "2018-02-15 11:47:28,651 INFO Processing c1/L8/033/042/LC08_L1TP_033042_20171210_20171210_01_RT/LC08_L1TP_033042_20171210_20171210_01_RT_MTL.txt\n",
      "2018-02-15 11:47:28,651 INFO Calling s3:get_object with {'Bucket': 'landsat-pds', 'Key': 'c1/L8/033/042/LC08_L1TP_033042_20171210_20171210_01_RT/LC08_L1TP_033042_20171210_20171210_01_RT_MTL.txt'}\n",
      "2018-02-15 11:47:28,914 INFO Indexing af51a8ab-9f31-59a7-b6b6-adaaa7dbd149\n",
      "2018-02-15 11:47:28,918 INFO Indexing c1/L8/033/042/LC08_L1TP_033042_20171210_20171210_01_RT/LC08_L1TP_033042_20171210_20171210_01_RT_MTL.txt\n",
      "2018-02-15 11:47:28,919 INFO Processing c1/L8/033/042/LC08_L1TP_033042_20171210_20171223_01_T1/LC08_L1TP_033042_20171210_20171223_01_T1_MTL.txt\n",
      "2018-02-15 11:47:28,919 INFO Calling s3:get_object with {'Bucket': 'landsat-pds', 'Key': 'c1/L8/033/042/LC08_L1TP_033042_20171210_20171223_01_T1/LC08_L1TP_033042_20171210_20171223_01_T1_MTL.txt'}\n",
      "2018-02-15 11:47:29,115 INFO Indexing 3464cfa6-3a78-5cdd-88fc-dd7263da280a\n",
      "2018-02-15 11:47:29,120 INFO Indexing c1/L8/033/042/LC08_L1TP_033042_20171210_20171223_01_T1/LC08_L1TP_033042_20171210_20171223_01_T1_MTL.txt\n",
      "2018-02-15 11:47:29,120 INFO Processing c1/L8/033/042/LC08_L1TP_033042_20171226_20171226_01_RT/LC08_L1TP_033042_20171226_20171226_01_RT_MTL.txt\n",
      "2018-02-15 11:47:29,120 INFO Calling s3:get_object with {'Bucket': 'landsat-pds', 'Key': 'c1/L8/033/042/LC08_L1TP_033042_20171226_20171226_01_RT/LC08_L1TP_033042_20171226_20171226_01_RT_MTL.txt'}\n",
      "2018-02-15 11:47:29,372 INFO Indexing ef0c9247-93b0-5404-bbc9-1500ce49c0db\n",
      "2018-02-15 11:47:29,377 INFO Indexing c1/L8/033/042/LC08_L1TP_033042_20171226_20171226_01_RT/LC08_L1TP_033042_20171226_20171226_01_RT_MTL.txt\n",
      "2018-02-15 11:47:29,377 INFO Processing c1/L8/033/042/LC08_L1TP_033042_20171226_20180103_01_T1/LC08_L1TP_033042_20171226_20180103_01_T1_MTL.txt\n",
      "2018-02-15 11:47:29,377 INFO Calling s3:get_object with {'Bucket': 'landsat-pds', 'Key': 'c1/L8/033/042/LC08_L1TP_033042_20171226_20180103_01_T1/LC08_L1TP_033042_20171226_20180103_01_T1_MTL.txt'}\n",
      "2018-02-15 11:47:29,584 INFO Indexing d476d714-bd8c-59f0-9d7e-6b0fff2c0241\n",
      "2018-02-15 11:47:29,588 INFO Indexing c1/L8/033/042/LC08_L1TP_033042_20171226_20180103_01_T1/LC08_L1TP_033042_20171226_20180103_01_T1_MTL.txt\n",
      "2018-02-15 11:47:29,588 INFO Processing c1/L8/033/042/LC08_L1TP_033042_20180111_20180111_01_RT/LC08_L1TP_033042_20180111_20180111_01_RT_MTL.txt\n",
      "2018-02-15 11:47:29,589 INFO Calling s3:get_object with {'Bucket': 'landsat-pds', 'Key': 'c1/L8/033/042/LC08_L1TP_033042_20180111_20180111_01_RT/LC08_L1TP_033042_20180111_20180111_01_RT_MTL.txt'}\n",
      "2018-02-15 11:47:29,785 INFO Indexing 7b9d232d-4ede-5a4d-bc99-91be239fcba4\n",
      "2018-02-15 11:47:29,789 INFO Indexing c1/L8/033/042/LC08_L1TP_033042_20180111_20180111_01_RT/LC08_L1TP_033042_20180111_20180111_01_RT_MTL.txt\n",
      "2018-02-15 11:47:29,789 INFO Processing c1/L8/033/042/LC08_L1TP_033042_20180111_20180119_01_T1/LC08_L1TP_033042_20180111_20180119_01_T1_MTL.txt\n",
      "2018-02-15 11:47:29,790 INFO Calling s3:get_object with {'Bucket': 'landsat-pds', 'Key': 'c1/L8/033/042/LC08_L1TP_033042_20180111_20180119_01_T1/LC08_L1TP_033042_20180111_20180119_01_T1_MTL.txt'}\n",
      "2018-02-15 11:47:29,990 INFO Indexing fcc989e7-02d1-5f7a-b698-b33073328323\n",
      "2018-02-15 11:47:29,995 INFO Indexing c1/L8/033/042/LC08_L1TP_033042_20180111_20180119_01_T1/LC08_L1TP_033042_20180111_20180119_01_T1_MTL.txt\n",
      "2018-02-15 11:47:29,995 INFO Processing c1/L8/033/042/LC08_L1TP_033042_20180127_20180127_01_RT/LC08_L1TP_033042_20180127_20180127_01_RT_MTL.txt\n",
      "2018-02-15 11:47:29,995 INFO Calling s3:get_object with {'Bucket': 'landsat-pds', 'Key': 'c1/L8/033/042/LC08_L1TP_033042_20180127_20180127_01_RT/LC08_L1TP_033042_20180127_20180127_01_RT_MTL.txt'}\n",
      "2018-02-15 11:47:30,181 INFO Indexing ec92b472-dd34-5e98-a9af-181875371a44\n",
      "2018-02-15 11:47:30,186 INFO Indexing c1/L8/033/042/LC08_L1TP_033042_20180127_20180127_01_RT/LC08_L1TP_033042_20180127_20180127_01_RT_MTL.txt\n",
      "2018-02-15 11:47:30,187 INFO Processing c1/L8/033/042/LC08_L1TP_033042_20180127_20180207_01_T1/LC08_L1TP_033042_20180127_20180207_01_T1_MTL.txt\n",
      "2018-02-15 11:47:30,187 INFO Calling s3:get_object with {'Bucket': 'landsat-pds', 'Key': 'c1/L8/033/042/LC08_L1TP_033042_20180127_20180207_01_T1/LC08_L1TP_033042_20180127_20180207_01_T1_MTL.txt'}\n",
      "2018-02-15 11:47:30,382 INFO Indexing 73d01889-9c84-54ac-bc9a-45763d5bf075\n",
      "2018-02-15 11:47:30,387 INFO Indexing c1/L8/033/042/LC08_L1TP_033042_20180127_20180207_01_T1/LC08_L1TP_033042_20180127_20180207_01_T1_MTL.txt\n",
      "2018-02-15 11:47:30,387 INFO Processing c1/L8/033/042/LC08_L1TP_033042_20180212_20180212_01_RT/LC08_L1TP_033042_20180212_20180212_01_RT_MTL.txt\n",
      "2018-02-15 11:47:30,387 INFO Calling s3:get_object with {'Bucket': 'landsat-pds', 'Key': 'c1/L8/033/042/LC08_L1TP_033042_20180212_20180212_01_RT/LC08_L1TP_033042_20180212_20180212_01_RT_MTL.txt'}\n",
      "2018-02-15 11:47:30,585 INFO Indexing 71103df6-100a-52b4-bd0c-be44bd576a99\n",
      "2018-02-15 11:47:30,590 INFO Indexing c1/L8/033/042/LC08_L1TP_033042_20180212_20180212_01_RT/LC08_L1TP_033042_20180212_20180212_01_RT_MTL.txt\n",
      "1.69user 0.27system 0:16.27elapsed 12%CPU (0avgtext+0avgdata 127208maxresident)k\n",
      "0inputs+0outputs (0major+38022minor)pagefaults 0swaps\n"
     ]
    }
   ],
   "source": [
    "!time python ls_public_bucket.py landsat-pds -p c1/L8/033/042/"
   ]
  },
  {
   "cell_type": "markdown",
   "metadata": {},
   "source": [
    "## Indexing complete for Collection 1 path 033 and row 042 \n",
    "## Time to index 39 datasets = ~17 seconds"
   ]
  },
  {
   "cell_type": "markdown",
   "metadata": {},
   "source": [
    "## Check datasets indexed :"
   ]
  },
  {
   "cell_type": "code",
   "execution_count": 8,
   "metadata": {},
   "outputs": [
    {
     "name": "stdout",
     "output_type": "stream",
     "text": [
      "Usage: datacube dataset [OPTIONS] COMMAND [ARGS]...\r\n",
      "\r\n",
      "  Dataset management commands\r\n",
      "\r\n",
      "Options:\r\n",
      "  -h, --help  Show this message and exit.\r\n",
      "\r\n",
      "Commands:\r\n",
      "  add      Add datasets to the Data Cube\r\n",
      "  archive  Archive datasets\r\n",
      "  info     Display dataset information\r\n",
      "  restore  Restore datasets\r\n",
      "  search   Search available Datasets \b Search...\r\n",
      "  update   Update datasets in the Data Cube\r\n"
     ]
    }
   ],
   "source": [
    "!datacube dataset --help"
   ]
  },
  {
   "cell_type": "code",
   "execution_count": null,
   "metadata": {},
   "outputs": [],
   "source": [
    "!datacube dataset search product ='ls8_level1'"
   ]
  },
  {
   "cell_type": "markdown",
   "metadata": {},
   "source": [
    "### The above cell lists the datasets available for product 'ls8_level1'"
   ]
  },
  {
   "cell_type": "code",
   "execution_count": 10,
   "metadata": {},
   "outputs": [
    {
     "name": "stdout",
     "output_type": "stream",
     "text": [
      "     39      78    1599\r\n"
     ]
    }
   ],
   "source": [
    "!datacube dataset search product ='ls8_level1' |grep id |wc"
   ]
  },
  {
   "cell_type": "markdown",
   "metadata": {},
   "source": [
    "### There are 39 datasets available for LANDSAT 8 Collection 1 for path 033 and row 042 "
   ]
  },
  {
   "cell_type": "markdown",
   "metadata": {},
   "source": [
    "### Pre Collection Data \n",
    "\n",
    "- The data are organized using a directory structure based on each scene’s path and row. For instance, the files for Landsat scene LC81390452014295LGN00 are available in the following location: s3://landsat-pds/L8/139/045/LC81390452014295LGN00/\n",
    "\n",
    "- The “L8” directory refers to Landsat 8, “139” refers to the scene’s path, “045” refers to the scene’s row, and the final directory matches the scene’s identifier, which uses the following naming convention: LXSPPPRRRYYYYDDDGSIVV, in which:\n",
    "\n",
    "       L = Landsat\n",
    "       X = Sensor\n",
    "       S = Satellite\n",
    "       PPP = WRS path\n",
    "       RRR = WRS row\n",
    "       YYYY = Year\n",
    "       DDD = Julian day of year\n",
    "       GSI = Ground station identifier\n",
    "       VV = Archive version number\n"
   ]
  },
  {
   "cell_type": "markdown",
   "metadata": {},
   "source": [
    "### Indexing Precollection data for same path and row "
   ]
  },
  {
   "cell_type": "code",
   "execution_count": null,
   "metadata": {},
   "outputs": [],
   "source": [
    "!time python ls_public_bucket.py landsat-pds -p L8/033/042/"
   ]
  },
  {
   "cell_type": "markdown",
   "metadata": {},
   "source": [
    "## Time taken to index pre collection level1 = 38 seconds"
   ]
  },
  {
   "cell_type": "code",
   "execution_count": 12,
   "metadata": {},
   "outputs": [
    {
     "name": "stdout",
     "output_type": "stream",
     "text": [
      "    130     260    5330\r\n"
     ]
    }
   ],
   "source": [
    "!datacube dataset search product ='ls8_level1' |grep id |wc"
   ]
  },
  {
   "cell_type": "markdown",
   "metadata": {},
   "source": [
    "## 91 datasets available for precollection path 033 and row 042"
   ]
  },
  {
   "cell_type": "markdown",
   "metadata": {},
   "source": [
    "## Indexing path =046 and row = 028"
   ]
  },
  {
   "cell_type": "code",
   "execution_count": null,
   "metadata": {},
   "outputs": [],
   "source": [
    "!time python ls_public_bucket.py landsat-pds -p L8/046/028/"
   ]
  },
  {
   "cell_type": "code",
   "execution_count": null,
   "metadata": {},
   "outputs": [],
   "source": [
    "!datacube dataset search product ='ls8_level1' "
   ]
  },
  {
   "cell_type": "markdown",
   "metadata": {},
   "source": [
    "### Sample dataset \n",
    "\n",
    "    id: 62a89ab0-df57-57fb-92c8-3554b6c76861\n",
    "    product: ls8_level1\n",
    "    status: active\n",
    "    locations:\n",
    "    - http://landsat-pds.s3.amazonaws.com/c1/L8/033/042/LC08_L1TP_033042_20170313_20170328_01_T1/LC08_L1TP_033042_20170313_20170328_01_T1_MTL.txt\n",
    "    fields:\n",
    "    instrument: OLI_TIRS\n",
    "    lat: {begin: 24.923891317485154, end: 27.044837184680176}\n",
    "    lon: {begin: -109.35854521931238, end: -107.05790554900032}\n",
    "    platform: LANDSAT_8\n",
    "    product_type: Level1\n",
    "    time: {begin: '2017-03-13T17:41:01.252643+00:00', end: '2017-03-13T17:41:01.252643+00:00'}"
   ]
  },
  {
   "cell_type": "code",
   "execution_count": 14,
   "metadata": {},
   "outputs": [
    {
     "name": "stdout",
     "output_type": "stream",
     "text": [
      "    222     444    9102\r\n"
     ]
    }
   ],
   "source": [
    "!datacube dataset search product ='ls8_level1' |grep id |wc"
   ]
  },
  {
   "cell_type": "code",
   "execution_count": 2,
   "metadata": {},
   "outputs": [],
   "source": [
    "import datacube \n",
    "from rasterio.plot import show_hist"
   ]
  },
  {
   "cell_type": "code",
   "execution_count": 3,
   "metadata": {},
   "outputs": [],
   "source": [
    "from datetime import datetime"
   ]
  },
  {
   "cell_type": "code",
   "execution_count": 4,
   "metadata": {},
   "outputs": [],
   "source": [
    "dc= datacube.Datacube()\n"
   ]
  },
  {
   "cell_type": "code",
   "execution_count": 5,
   "metadata": {},
   "outputs": [],
   "source": [
    "date_range = (\n",
    "        datetime(2017,4,8),\n",
    "        datetime(2017,4,28))"
   ]
  },
  {
   "cell_type": "code",
   "execution_count": 13,
   "metadata": {},
   "outputs": [],
   "source": [
    "ds = dc.load(product='ls8_level1',x = (-121.0,-122.905), y =(45.10,46.60),output_crs = 'epsg:32610', resolution = (-30,30),time = date_range, measurements = ('red', 'green', 'blue','nir') )"
   ]
  },
  {
   "cell_type": "code",
   "execution_count": 14,
   "metadata": {},
   "outputs": [
    {
     "data": {
      "text/plain": [
       "<bound method Dataset.chunk of <xarray.Dataset>\n",
       "Dimensions:  (time: 2, x: 5003, y: 5621)\n",
       "Coordinates:\n",
       "  * time     (time) datetime64[ns] 2017-04-09T18:55:33.548689 ...\n",
       "  * y        (y) float64 5.163e+06 5.163e+06 5.163e+06 5.163e+06 5.163e+06 ...\n",
       "  * x        (x) float64 5.073e+05 5.073e+05 5.073e+05 5.074e+05 5.074e+05 ...\n",
       "Data variables:\n",
       "    red      (time, y, x) int16 10917 11057 11015 10929 10921 10897 10946 ...\n",
       "    green    (time, y, x) int16 11376 11480 11459 11403 11374 11382 11428 ...\n",
       "    blue     (time, y, x) int16 12617 12687 12690 12605 12572 12575 12623 ...\n",
       "    nir      (time, y, x) int16 14730 14365 15115 15755 15694 15764 15914 ...\n",
       "Attributes:\n",
       "    crs:      epsg:32610>"
      ]
     },
     "execution_count": 14,
     "metadata": {},
     "output_type": "execute_result"
    }
   ],
   "source": [
    "ds.chunk"
   ]
  },
  {
   "cell_type": "markdown",
   "metadata": {},
   "source": [
    "## Landsat 8 Band Reference \n",
    "\n",
    "    Operational Land Imager (OLI)and Thermal Infrared Sensor (TIRS)\n",
    "\n",
    " \n",
    "\tBands \t                                  Wavelength      Resolution\n",
    "                                             (micrometers) \t  (meters)\n",
    "                                                            \n",
    "    Band 1 - Ultra Blue (coastal/aerosol) \t  0.435 - 0.451 \t30\n",
    "    Band 2 - Blue \t                          0.452 - 0.512 \t30\n",
    "    Band 3 - Green \t                          0.533 - 0.590 \t30\n",
    "    Band 4 - Red \t                          0.636 - 0.673 \t30\n",
    "    Band 5 - Near Infrared (NIR) \t          0.851 - 0.879 \t30\n",
    "    Band 6 - Shortwave Infrared (SWIR) 1 \t  1.566 - 1.651 \t30\n",
    "    Band 7 - Shortwave Infrared (SWIR) 2 \t  2.107 - 2.294 \t30\n",
    "    Band 8 - Panchromatic \t                  0.503 - 0.676 \t15\n",
    "    Band 9 - Cirrus \t                      1.363 - 1.384 \t30\n",
    "    Band 10 - Thermal Infrared (TIRS) 1 \t  10.60 - 11.19 \t100 * (30)\n",
    "    Band 11 - Thermal Infrared (TIRS) 2 \t  11.50 - 12.51 \t100 * (30)"
   ]
  },
  {
   "cell_type": "code",
   "execution_count": 9,
   "metadata": {},
   "outputs": [],
   "source": [
    "from datacube.storage.masking import mask_invalid_data\n",
    "def plot_rgb(image, fake_saturation):\n",
    "    image = image[['red', 'green', 'blue']]\n",
    "    image = mask_invalid_data(image)\n",
    "    print(image)\n",
    "    rgb = image.to_array(dim='color')\n",
    "    print(f'rgb.shape: {rgb.shape}')\n",
    "    rgb = rgb.transpose(*(rgb.dims[1:] + rgb.dims[:1]))  # make 'color' the last dimension\n",
    "    print(f'rgb.shape: {rgb.shape}')\n",
    "    rgb = rgb.where((rgb <= fake_saturation).all(dim='color'))  # mask out pixels where any band is 'saturated'\n",
    "    print(f'rgb.shape: {rgb.shape}')\n",
    "    print(type(rgb.data))\n",
    "    rgb /= fake_saturation  # scale to [0, 1] range for imshow\n",
    "    print(rgb)\n",
    "    rgb.plot.imshow(\n",
    "        x=image.crs.dimensions[1], \n",
    "        y=image.crs.dimensions[0],\n",
    "        col='time', \n",
    "        col_wrap=5, \n",
    "        add_colorbar=True,\n",
    "        \n",
    "    )"
   ]
  },
  {
   "cell_type": "code",
   "execution_count": 10,
   "metadata": {},
   "outputs": [],
   "source": [
    "%matplotlib notebook\n",
    "%matplotlib inline"
   ]
  },
  {
   "cell_type": "code",
   "execution_count": 15,
   "metadata": {},
   "outputs": [
    {
     "name": "stderr",
     "output_type": "stream",
     "text": [
      "/home/ubuntu/miniconda/envs/harshuenv/lib/python3.6/site-packages/xarray/core/dtypes.py:23: FutureWarning: Conversion of the second argument of issubdtype from `float` to `np.floating` is deprecated. In future, it will be treated as `np.float64 == np.dtype(float).type`.\n",
      "  if np.issubdtype(dtype, float):\n",
      "/home/ubuntu/miniconda/envs/harshuenv/lib/python3.6/site-packages/xarray/core/dtypes.py:25: FutureWarning: Conversion of the second argument of issubdtype from `int` to `np.signedinteger` is deprecated. In future, it will be treated as `np.int64 == np.dtype(int).type`.\n",
      "  elif np.issubdtype(dtype, int):\n",
      "/home/ubuntu/miniconda/envs/harshuenv/lib/python3.6/site-packages/xarray/core/dtypes.py:23: FutureWarning: Conversion of the second argument of issubdtype from `float` to `np.floating` is deprecated. In future, it will be treated as `np.float64 == np.dtype(float).type`.\n",
      "  if np.issubdtype(dtype, float):\n",
      "/home/ubuntu/miniconda/envs/harshuenv/lib/python3.6/site-packages/xarray/core/dtypes.py:25: FutureWarning: Conversion of the second argument of issubdtype from `int` to `np.signedinteger` is deprecated. In future, it will be treated as `np.int64 == np.dtype(int).type`.\n",
      "  elif np.issubdtype(dtype, int):\n",
      "/home/ubuntu/miniconda/envs/harshuenv/lib/python3.6/site-packages/xarray/core/dtypes.py:23: FutureWarning: Conversion of the second argument of issubdtype from `float` to `np.floating` is deprecated. In future, it will be treated as `np.float64 == np.dtype(float).type`.\n",
      "  if np.issubdtype(dtype, float):\n",
      "/home/ubuntu/miniconda/envs/harshuenv/lib/python3.6/site-packages/xarray/core/dtypes.py:25: FutureWarning: Conversion of the second argument of issubdtype from `int` to `np.signedinteger` is deprecated. In future, it will be treated as `np.int64 == np.dtype(int).type`.\n",
      "  elif np.issubdtype(dtype, int):\n"
     ]
    },
    {
     "name": "stdout",
     "output_type": "stream",
     "text": [
      "<xarray.Dataset>\n",
      "Dimensions:  (time: 2, x: 5003, y: 5621)\n",
      "Coordinates:\n",
      "  * time     (time) datetime64[ns] 2017-04-09T18:55:33.548689 ...\n",
      "  * y        (y) float64 5.163e+06 5.163e+06 5.163e+06 5.163e+06 5.163e+06 ...\n",
      "  * x        (x) float64 5.073e+05 5.073e+05 5.073e+05 5.074e+05 5.074e+05 ...\n",
      "Data variables:\n",
      "    red      (time, y, x) float64 1.092e+04 1.106e+04 1.102e+04 1.093e+04 ...\n",
      "    green    (time, y, x) float64 1.138e+04 1.148e+04 1.146e+04 1.14e+04 ...\n",
      "    blue     (time, y, x) float64 1.262e+04 1.269e+04 1.269e+04 1.260e+04 ...\n",
      "Attributes:\n",
      "    crs:      epsg:32610\n",
      "rgb.shape: (3, 2, 5621, 5003)\n",
      "rgb.shape: (2, 5621, 5003, 3)\n",
      "rgb.shape: (2, 5621, 5003, 3)\n",
      "<class 'numpy.ndarray'>\n",
      "<xarray.DataArray (time: 2, y: 5621, x: 5003, color: 3)>\n",
      "array([[[[0.43668, ..., 0.50468],\n",
      "         ...,\n",
      "         [0.42888, ..., 0.46548]],\n",
      "\n",
      "        ...,\n",
      "\n",
      "        [[0.     , ..., 0.     ],\n",
      "         ...,\n",
      "         [0.     , ..., 0.     ]]],\n",
      "\n",
      "\n",
      "       [[[    nan, ...,     nan],\n",
      "         ...,\n",
      "         [0.7926 , ..., 0.8366 ]],\n",
      "\n",
      "        ...,\n",
      "\n",
      "        [[0.     , ..., 0.     ],\n",
      "         ...,\n",
      "         [0.     , ..., 0.     ]]]])\n",
      "Coordinates:\n",
      "  * time     (time) datetime64[ns] 2017-04-09T18:55:33.548689 ...\n",
      "  * y        (y) float64 5.163e+06 5.163e+06 5.163e+06 5.163e+06 5.163e+06 ...\n",
      "  * x        (x) float64 5.073e+05 5.073e+05 5.073e+05 5.074e+05 5.074e+05 ...\n",
      "  * color    (color) <U5 'red' 'green' 'blue'\n",
      "Attributes:\n",
      "    crs:      epsg:32610\n"
     ]
    },
    {
     "name": "stderr",
     "output_type": "stream",
     "text": [
      "/home/ubuntu/miniconda/envs/harshuenv/lib/python3.6/site-packages/numpy/core/_methods.py:29: RuntimeWarning: invalid value encountered in reduce\n",
      "  return umr_minimum(a, axis, None, out, keepdims)\n"
     ]
    },
    {
     "data": {
      "image/png": "[encoded data removed]",
      "text/plain": [
       "<matplotlib.figure.Figure at 0x7f6eaa3c7908>"
      ]
     },
     "metadata": {},
     "output_type": "display_data"
    }
   ],
   "source": [
    "plot_rgb(ds,25000)"
   ]
  },
  {
   "cell_type": "code",
   "execution_count": null,
   "metadata": {},
   "outputs": [],
   "source": [
    "ds.red.isel(time=1).plot(cmap='Reds')\n"
   ]
  },
  {
   "cell_type": "markdown",
   "metadata": {},
   "source": [
    "### NDVI PLOT "
   ]
  },
  {
   "cell_type": "code",
   "execution_count": 17,
   "metadata": {},
   "outputs": [],
   "source": [
    "import matplotlib"
   ]
  },
  {
   "cell_type": "code",
   "execution_count": 18,
   "metadata": {},
   "outputs": [],
   "source": [
    "ndvi = ((ds.nir-ds.red)/(ds.nir+ds.red))"
   ]
  },
  {
   "cell_type": "code",
   "execution_count": 19,
   "metadata": {},
   "outputs": [],
   "source": [
    "ndvi_cmap = matplotlib.colors.ListedColormap(['blue', '#ffcc66','#ffffcc' , '#ccff66' , '#2eb82e', '#009933' , '#006600'])"
   ]
  },
  {
   "cell_type": "code",
   "execution_count": 20,
   "metadata": {},
   "outputs": [],
   "source": [
    "ndvi_bounds = [-1, 0, 0.1, 0.25, 0.35, 0.5, 0.8, 1]"
   ]
  },
  {
   "cell_type": "code",
   "execution_count": 21,
   "metadata": {},
   "outputs": [],
   "source": [
    "ndvi_norm = matplotlib.colors.BoundaryNorm(ndvi_bounds,ndvi_cmap.N)"
   ]
  },
  {
   "cell_type": "code",
   "execution_count": null,
   "metadata": {},
   "outputs": [],
   "source": [
    "ndvi.isel(time=1).plot(cmap =ndvi_cmap, norm = ndvi_norm )"
   ]
  },
  {
   "cell_type": "code",
   "execution_count": null,
   "metadata": {},
   "outputs": [],
   "source": []
  }
 ],
 "metadata": {
  "kernelspec": {
   "display_name": "Python 3",
   "language": "python",
   "name": "python3"
  },
  "language_info": {
   "codemirror_mode": {
    "name": "ipython",
    "version": 3
   },
   "file_extension": ".py",
   "mimetype": "text/x-python",
   "name": "python",
   "nbconvert_exporter": "python",
   "pygments_lexer": "ipython3",
   "version": "3.6.4"
  }
 },
 "nbformat": 4,
 "nbformat_minor": 2
}
